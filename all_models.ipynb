{
 "cells": [
  {
   "cell_type": "markdown",
   "source": [
    "# from formulas import *"
   ],
   "metadata": {
    "collapsed": false
   }
  },
  {
   "cell_type": "code",
   "execution_count": null,
   "outputs": [],
   "source": [
    "import pandas as pd\n",
    "import matplotlib.pyplot as plt\n",
    "import seaborn as sns\n",
    "from sklearn.preprocessing import MinMaxScaler\n",
    "from sklearn.metrics import mean_squared_error as MSE\n",
    "import numpy as np\n",
    "import tensorflow as tf\n",
    "\n",
    "keras = tf.keras"
   ],
   "metadata": {
    "collapsed": false,
    "pycharm": {
     "name": "#%%\n"
    }
   }
  },
  {
   "cell_type": "code",
   "execution_count": null,
   "outputs": [],
   "source": [
    "def plot_series(time, series, format=\"-\", start=0, end=None, label=None):\n",
    "    plt.plot(time[start:end], series[start:end], format, label=label)\n",
    "    plt.xlabel(\"Time\")\n",
    "    plt.ylabel(\"Value\")\n",
    "    if label:\n",
    "        plt.legend(fontsize=14)\n",
    "    plt.grid(True)\n",
    "\n",
    "\n",
    "def ma20(df):\n",
    "    window = 20"
   ],
   "metadata": {
    "collapsed": false,
    "pycharm": {
     "name": "#%%\n"
    }
   }
  },
  {
   "cell_type": "markdown",
   "source": [
    "# Create a moving average over the entire dataset"
   ],
   "metadata": {
    "collapsed": false,
    "pycharm": {
     "name": "#%% md\n"
    }
   }
  },
  {
   "cell_type": "code",
   "execution_count": null,
   "outputs": [],
   "source": [
    "    moving_avg = df['Close'].rolling(window=window).mean()\n",
    "    test_split_date = '2018-01-02'\n",
    "    test_split_index = np.where(df.Date == test_split_date)[0][0]\n",
    "    x_test = df.loc[df['Date'] >= test_split_date]['Close']"
   ],
   "metadata": {
    "collapsed": false,
    "pycharm": {
     "name": "#%%\n"
    }
   }
  },
  {
   "cell_type": "markdown",
   "source": [
    "# Slice the moving average on the forecast"
   ],
   "metadata": {
    "collapsed": false,
    "pycharm": {
     "name": "#%% md\n"
    }
   }
  },
  {
   "cell_type": "code",
   "execution_count": null,
   "outputs": [],
   "source": [
    "    moving_avg_forecast = moving_avg.values[test_split_index - window:df.index.max() - window + 1]"
   ],
   "metadata": {
    "collapsed": false,
    "pycharm": {
     "name": "#%%\n"
    }
   }
  },
  {
   "cell_type": "markdown",
   "source": [
    "# create the figure for presenting the predection result"
   ],
   "metadata": {
    "collapsed": false,
    "pycharm": {
     "name": "#%% md\n"
    }
   }
  },
  {
   "cell_type": "code",
   "execution_count": null,
   "outputs": [],
   "source": [
    "    plt.figure(figsize=(10, 6))\n",
    "    plot_series(x_test.index, x_test, label=\"Series\")\n",
    "    plot_series(x_test.index, moving_avg_forecast, label=\"Moving average (20 days)\")\n",
    "    plt.ylabel('Dollars $')\n",
    "    plt.xlabel('Timestep in Days')\n",
    "    plt.title('SMA20 vs Actual')\n",
    "    plt.show()"
   ],
   "metadata": {
    "collapsed": false,
    "pycharm": {
     "name": "#%%\n"
    }
   }
  },
  {
   "cell_type": "markdown",
   "source": [
    "# calculate the mean error for the ML model"
   ],
   "metadata": {
    "collapsed": false,
    "pycharm": {
     "name": "#%% md\n"
    }
   }
  },
  {
   "cell_type": "code",
   "execution_count": null,
   "outputs": [],
   "source": [
    "    ma_20 = keras.metrics.mean_absolute_error(x_test, moving_avg_forecast).numpy()\n",
    "    return ma_20\n",
    "\n",
    "def naive(df):\n",
    "\n",
    "    df['Date'] = pd.to_datetime(df['Date'])\n",
    "    df.tail(100)\n",
    "    df.dropna(inplace=True)\n",
    "\n",
    "    series = df['Close']"
   ],
   "metadata": {
    "collapsed": false,
    "pycharm": {
     "name": "#%%\n"
    }
   }
  },
  {
   "cell_type": "markdown",
   "source": [
    "# Create train data set from the given date"
   ],
   "metadata": {
    "collapsed": false,
    "pycharm": {
     "name": "#%% md\n"
    }
   }
  },
  {
   "cell_type": "code",
   "execution_count": null,
   "outputs": [],
   "source": [
    "    train_split_date = '2002-02-25'\n",
    "    train_split_index = np.where(df.Date == train_split_date)[0][0]\n",
    "    x_train = df.loc[df['Date'] <= train_split_date]['Close']"
   ],
   "metadata": {
    "collapsed": false,
    "pycharm": {
     "name": "#%%\n"
    }
   }
  },
  {
   "cell_type": "markdown",
   "source": [
    "    # Create test data set from the given date"
   ],
   "metadata": {
    "collapsed": false,
    "pycharm": {
     "name": "#%% md\n"
    }
   }
  },
  {
   "cell_type": "code",
   "execution_count": null,
   "outputs": [],
   "source": [
    "    test_split_date = '2021-05-10'\n",
    "    test_split_index = np.where(df.Date == test_split_date)[0][0]\n",
    "    x_test = df.loc[df['Date'] >= test_split_date]['Close']"
   ],
   "metadata": {
    "collapsed": false,
    "pycharm": {
     "name": "#%%\n"
    }
   }
  },
  {
   "cell_type": "markdown",
   "source": [
    "# Create valid data set"
   ],
   "metadata": {
    "collapsed": false,
    "pycharm": {
     "name": "#%% md\n"
    }
   }
  },
  {
   "cell_type": "code",
   "execution_count": null,
   "outputs": [],
   "source": [
    "    x_valid = df.loc[(df['Date'] < test_split_date) & (df['Date'] > train_split_date)]['Close']"
   ],
   "metadata": {
    "collapsed": false,
    "pycharm": {
     "name": "#%%\n"
    }
   }
  },
  {
   "cell_type": "markdown",
   "source": [
    "# set style of charts"
   ],
   "metadata": {
    "collapsed": false,
    "pycharm": {
     "name": "#%% md\n"
    }
   }
  },
  {
   "cell_type": "code",
   "execution_count": null,
   "outputs": [],
   "source": [
    "    sns.set(style=\"darkgrid\")\n",
    "    plt.rcParams['figure.figsize'] = [10, 10]"
   ],
   "metadata": {
    "collapsed": false,
    "pycharm": {
     "name": "#%%\n"
    }
   }
  },
  {
   "cell_type": "markdown",
   "source": [
    "# Create a plot showing the split of the train, valid, and test data"
   ],
   "metadata": {
    "collapsed": false,
    "pycharm": {
     "name": "#%% md\n"
    }
   }
  },
  {
   "cell_type": "code",
   "execution_count": null,
   "outputs": [],
   "source": [
    "    plt.plot(x_train, label='Train')\n",
    "    plt.plot(x_valid, label='Validate')\n",
    "    plt.plot(x_test, label='Test')\n",
    "    plt.title('Train Valid Test Split of Data')\n",
    "    plt.ylabel('Dollars $')\n",
    "    plt.xlabel('Timestep in Days')\n",
    "    plt.legend()\n",
    "    print(x_train.index.max(), x_valid.index.min(), x_valid.index.max(), x_test.index.min(), x_test.index.max())\n",
    "\n",
    "    plt.show()\n",
    "\n",
    "    model_mae_scores = {}"
   ],
   "metadata": {
    "collapsed": false,
    "pycharm": {
     "name": "#%%\n"
    }
   }
  },
  {
   "cell_type": "markdown",
   "source": [
    "# Plot chart with all details untouched"
   ],
   "metadata": {
    "collapsed": false,
    "pycharm": {
     "name": "#%% md\n"
    }
   }
  },
  {
   "cell_type": "code",
   "execution_count": null,
   "outputs": [],
   "source": [
    "    plot_series(time=df.index, series=df['Close'], label='Apple Close Price')\n",
    "    plt.ylabel('Dollars $')\n",
    "    plt.xlabel('Timestep in Days')\n",
    "    plt.title('Price History of Apple Jan-1993 to Dec-2020')\n",
    "\n",
    "    naive_forecast = series[test_split_index - 1:-1]\n",
    "\n",
    "    plt.figure(figsize=(10, 6))\n",
    "    plot_series(x_test.index, x_test, label=\"Actual\")\n",
    "    plot_series(x_test.index, naive_forecast, label=\"Forecast\")\n",
    "    plt.ylabel('Dollars $')\n",
    "    plt.xlabel('Timestep in Days')\n",
    "    plt.title('Naive Forecast vs Actual')\n",
    "    plt.show()"
   ],
   "metadata": {
    "collapsed": false,
    "pycharm": {
     "name": "#%%\n"
    }
   }
  },
  {
   "cell_type": "markdown",
   "source": [
    "# Alternative way to show MAE to stay consistent with what we will be doing later"
   ],
   "metadata": {
    "collapsed": false,
    "pycharm": {
     "name": "#%% md\n"
    }
   }
  },
  {
   "cell_type": "code",
   "execution_count": null,
   "outputs": [],
   "source": [
    "    naive_forecast_mae = keras.metrics.mean_absolute_error(x_test, naive_forecast).numpy()\n",
    "    model_mae_scores['naive'] = naive_forecast_mae"
   ],
   "metadata": {
    "collapsed": false,
    "pycharm": {
     "name": "#%%\n"
    }
   }
  },
  {
   "cell_type": "markdown",
   "source": [
    "# view the dictionary of mae scores"
   ],
   "metadata": {
    "collapsed": false,
    "pycharm": {
     "name": "#%% md\n"
    }
   }
  },
  {
   "cell_type": "code",
   "execution_count": null,
   "outputs": [],
   "source": [
    "    print(model_mae_scores)\n",
    "    return model_mae_scores"
   ],
   "metadata": {
    "collapsed": false,
    "pycharm": {
     "name": "#%%\n"
    }
   }
  },
  {
   "cell_type": "markdown",
   "source": [
    "# Show first 3 values of our forecast\n",
    "# print the shaped data for developer view"
   ],
   "metadata": {
    "collapsed": false,
    "pycharm": {
     "name": "#%% md\n"
    }
   }
  },
  {
   "cell_type": "code",
   "execution_count": null,
   "outputs": [],
   "source": [
    "def decision_tree(df):\n",
    "\n",
    "\n",
    "    print(df.shape)\n",
    "    df.head()\n",
    "\n",
    "    df = df.reset_index(drop=True)\n",
    "    df.head()\n",
    "\n",
    "    col_list = df.columns.tolist()\n",
    "    print(col_list)"
   ],
   "metadata": {
    "collapsed": false,
    "pycharm": {
     "name": "#%%\n"
    }
   }
  },
  {
   "cell_type": "markdown",
   "source": [
    "# Create plot for the initial data"
   ],
   "metadata": {
    "collapsed": false,
    "pycharm": {
     "name": "#%% md\n"
    }
   }
  },
  {
   "cell_type": "code",
   "execution_count": null,
   "outputs": [],
   "source": [
    "    sns.set()\n",
    "    plt.figure(figsize=(10, 6))\n",
    "    plt.title(\"Stock Price\")\n",
    "    plt.xlabel(\"Days\")\n",
    "    plt.ylabel(\"Close Price USD ($)\")\n",
    "    plt.plot(df[\"Close\"])\n",
    "    plt.show()"
   ],
   "metadata": {
    "collapsed": false,
    "pycharm": {
     "name": "#%%\n"
    }
   }
  },
  {
   "cell_type": "markdown",
   "source": [
    "# shift(remove) the data for the last 30 days for the prediction results"
   ],
   "metadata": {
    "collapsed": false,
    "pycharm": {
     "name": "#%% md\n"
    }
   }
  },
  {
   "cell_type": "code",
   "execution_count": null,
   "outputs": [],
   "source": [
    "    futureDays = 30\n",
    "    df[\"Prediction\"] = df[[\"Close\"]].shift(-futureDays)\n",
    "    print(df.head())\n",
    "    print(df.tail())\n",
    "\n",
    "    x = np.array(df.drop([\"Prediction\"], 1))[:-futureDays]\n",
    "    y = np.array(df[\"Prediction\"])[:-futureDays]\n",
    "\n",
    "\n",
    "    from sklearn.tree import DecisionTreeRegressor\n",
    "    from sklearn.model_selection import train_test_split\n",
    "    xtrain, xtest, ytrain, ytest = train_test_split(x, y, test_size=0.25)\n",
    "\n",
    "\n",
    "    keras = tf.keras\n",
    "    tree = DecisionTreeRegressor().fit(xtrain, ytrain)"
   ],
   "metadata": {
    "collapsed": false,
    "pycharm": {
     "name": "#%%\n"
    }
   }
  },
  {
   "cell_type": "markdown",
   "source": [
    "# creating the Linear Regression model"
   ],
   "metadata": {
    "collapsed": false,
    "pycharm": {
     "name": "#%% md\n"
    }
   }
  },
  {
   "cell_type": "code",
   "execution_count": null,
   "outputs": [],
   "source": [
    "    from sklearn.linear_model import LinearRegression\n",
    "    linear = LinearRegression().fit(xtrain, ytrain)\n",
    "\n",
    "\n",
    "    xfuture = df.drop([\"Prediction\"], 1)[:-futureDays]\n",
    "    xfuture = xfuture.tail(futureDays)\n",
    "    xfuture = np.array(xfuture)\n",
    "    print(xfuture)\n",
    "\n",
    "    treePrediction = tree.predict(xfuture)\n",
    "    print(\"Decision Tree prediction =\",treePrediction)\n",
    "\n",
    "\n",
    "    linearPrediction = linear.predict(xfuture)\n",
    "    print(\"Linear regression Prediction =\",linearPrediction)\n",
    "    #\n",
    "\n",
    "    predictions = treePrediction\n",
    "    valid = df[x.shape[0]:]\n",
    "    valid[\"Predictions\"] = predictions\n",
    "    plt.figure(figsize=(10, 6))\n",
    "    plt.title(\"'s Stock Price Prediction Model(Decision Tree Regressor Model)\")\n",
    "    plt.xlabel(\"Days\")\n",
    "    plt.ylabel(\"Close Price USD ($)\")\n",
    "    plt.plot(df[\"Close\"])\n",
    "    plt.plot(valid[[\"Close\", \"Predictions\"]])\n",
    "    plt.legend([\"Original\", \"Valid\", \"Predictions\"])\n",
    "    plt.show()\n",
    "\n",
    "\n",
    "    y_pred = tree.predict(xtest)"
   ],
   "metadata": {
    "collapsed": false,
    "pycharm": {
     "name": "#%%\n"
    }
   }
  },
  {
   "cell_type": "markdown",
   "source": [
    "# Compute mse_dt"
   ],
   "metadata": {
    "collapsed": false,
    "pycharm": {
     "name": "#%% md\n"
    }
   }
  },
  {
   "cell_type": "code",
   "execution_count": null,
   "outputs": [],
   "source": [
    "    mse_dt = MSE(ytest, y_pred)"
   ],
   "metadata": {
    "collapsed": false,
    "pycharm": {
     "name": "#%%\n"
    }
   }
  },
  {
   "cell_type": "markdown",
   "source": [
    "# Compute rmse_dt"
   ],
   "metadata": {
    "collapsed": false,
    "pycharm": {
     "name": "#%% md\n"
    }
   }
  },
  {
   "cell_type": "code",
   "execution_count": null,
   "outputs": [],
   "source": [
    "    rmse_dt = mse_dt**(1/2)"
   ],
   "metadata": {
    "collapsed": false,
    "pycharm": {
     "name": "#%%\n"
    }
   }
  },
  {
   "cell_type": "markdown",
   "source": [
    "# Print rmse_dt"
   ],
   "metadata": {
    "collapsed": false,
    "pycharm": {
     "name": "#%% md\n"
    }
   }
  },
  {
   "cell_type": "code",
   "execution_count": null,
   "outputs": [],
   "source": [
    "    print(\"Test set RMSE of dt: {:.2f}\".format(rmse_dt))\n",
    "\n",
    "    minmax = MinMaxScaler().fit(df.iloc[:, 4:5].astype('float32')) # Close index\n",
    "    df_log = minmax.transform(df.iloc[:, 4:5].astype('float32')) # Close index\n",
    "    df_log = pd.DataFrame(df_log)\n",
    "    df_log.head()\n",
    "    return rmse_dt\n",
    "\n",
    "def plot_series(time, series, format=\"-\", start=0, end=None, label=None):\n",
    "    plt.plot(time[start:end], series[start:end], format, label=label)\n",
    "    plt.xlabel(\"Time\")\n",
    "    plt.ylabel(\"Value\")\n",
    "    if label:\n",
    "        plt.legend(fontsize=14)\n",
    "    plt.grid(True)\n",
    "\n",
    "def model_forecast(model, series, window_size):\n",
    "    ds = tf.data.Dataset.from_tensor_slices(series)\n",
    "    ds = ds.window(window_size, shift=1, drop_remainder=True)\n",
    "    ds = ds.flat_map(lambda w: w.batch(window_size))\n",
    "    ds = ds.batch(32).prefetch(1)\n",
    "    forecast = model.predict(ds)\n",
    "    return forecast\n",
    "\n",
    "def window_dataset(series, window_size, batch_size=128,\n",
    "                   shuffle_buffer=1000):\n",
    "    dataset = tf.data.Dataset.from_tensor_slices(series)\n",
    "    dataset = dataset.window(window_size + 1, shift=1, drop_remainder=True)\n",
    "    dataset = dataset.flat_map(lambda window: window.batch(window_size + 1))\n",
    "    dataset = dataset.shuffle(shuffle_buffer)\n",
    "    dataset = dataset.map(lambda window: (window[:-1], window[-1]))\n",
    "    dataset = dataset.batch(batch_size).prefetch(1)\n",
    "    return dataset"
   ],
   "metadata": {
    "collapsed": false,
    "pycharm": {
     "name": "#%%\n"
    }
   }
  },
  {
   "cell_type": "markdown",
   "source": [
    "# Save target series\n",
    "# Create train data set\n",
    "# Create test data set\n",
    "# Create valid data set"
   ],
   "metadata": {
    "collapsed": false,
    "pycharm": {
     "name": "#%% md\n"
    }
   }
  },
  {
   "cell_type": "code",
   "execution_count": null,
   "outputs": [],
   "source": [
    "def dense(df):\n",
    "\n",
    "    series = df['Close']\n",
    "\n",
    "\n",
    "    train_split_date = '2014-12-31'\n",
    "    train_split_index = np.where(df.Date == train_split_date)[0][0]\n",
    "    x_train = df.loc[df['Date'] <= train_split_date]['Close']\n",
    "\n",
    "\n",
    "    test_split_date = '2021-06-01'\n",
    "    test_split_index = np.where(df.Date == test_split_date)[0][0]\n",
    "    x_test = df.loc[df['Date'] >= test_split_date]['Close']\n",
    "\n",
    "\n",
    "    valid_split_index = (train_split_index.max(), test_split_index.min())\n",
    "    x_valid = df.loc[(df['Date'] < test_split_date) & (df['Date'] > train_split_date)]['Close']\n",
    "\n",
    "    plt.plot(x_train, label='Train')\n",
    "    plt.plot(x_valid, label='Validate')\n",
    "    plt.plot(x_test, label='Test')\n",
    "    plt.legend()\n",
    "    print(x_train.index.max(), x_valid.index.min(), x_valid.index.max(), x_test.index.min(), x_test.index.max())\n",
    "    plt.show()"
   ],
   "metadata": {
    "collapsed": false,
    "pycharm": {
     "name": "#%%\n"
    }
   }
  },
  {
   "cell_type": "markdown",
   "source": [
    "# Reshape values\n",
    "#  Create Scaler Object\n",
    "# Fit x_train values\n",
    "# Fit x_valid values\n",
    "# All values normalized to training data"
   ],
   "metadata": {
    "collapsed": false,
    "pycharm": {
     "name": "#%% md\n"
    }
   }
  },
  {
   "cell_type": "code",
   "execution_count": null,
   "outputs": [],
   "source": [
    "    x_train_values = x_train.values.reshape(-1, 1)\n",
    "    x_valid_values = x_valid.values.reshape(-1, 1)\n",
    "    x_test_values = x_test.values.reshape(-1, 1)\n",
    "\n",
    "    x_train_scaler = MinMaxScaler(feature_range=(0, 1))\n",
    "\n",
    "    normalized_x_train = x_train_scaler.fit_transform(x_train_values)\n",
    "\n",
    "\n",
    "    normalized_x_valid = x_train_scaler.transform(x_valid_values)\n",
    "\n",
    "    normalized_x_test = x_train_scaler.transform(x_test_values)\n",
    "\n",
    "    df_normalized_to_traindata = x_train_scaler.transform(series.values.reshape(-1, 1))\n",
    "\n",
    "    # Example of how to iverse\n",
    "    # inversed = scaler.inverse_transform(normalized_x_train).flatten()\n",
    "\n",
    "    keras.backend.clear_session()\n",
    "    tf.random.set_seed(42)\n",
    "    np.random.seed(42)\n",
    "\n",
    "    window_size = 20\n",
    "    train_set = window_dataset(normalized_x_train.flatten(), window_size)\n",
    "\n",
    "    model = keras.models.Sequential([\n",
    "        keras.layers.Dense(10, activation=\"relu\", input_shape=[window_size]),\n",
    "        keras.layers.Dense(10, activation=\"relu\"),\n",
    "        keras.layers.Dense(1)\n",
    "    ])\n",
    "\n",
    "    lr_schedule = keras.callbacks.LearningRateScheduler(\n",
    "        lambda epoch: 1e-7 * 10 ** (epoch / 20))\n",
    "    optimizer = keras.optimizers.Nadam(lr=1e-7)\n",
    "    model.compile(loss=keras.losses.Huber(),\n",
    "                  optimizer=optimizer,\n",
    "                  metrics=[\"mae\"])\n",
    "    history = model.fit(train_set, epochs=50, callbacks=[lr_schedule])\n",
    "\n",
    "    plt.semilogx(history.history[\"lr\"], history.history[\"loss\"])\n",
    "    plt.axis([1e-7, 1, 0, .1])"
   ],
   "metadata": {
    "collapsed": false,
    "pycharm": {
     "name": "#%%\n"
    }
   }
  },
  {
   "cell_type": "markdown",
   "source": [
    "# Clear back end\n",
    "# Ensure reproducibility\n",
    "# Set Window Size"
   ],
   "metadata": {
    "collapsed": false,
    "pycharm": {
     "name": "#%% md\n"
    }
   }
  },
  {
   "cell_type": "code",
   "execution_count": null,
   "outputs": [],
   "source": [
    "    keras.backend.clear_session()\n",
    "\n",
    "    tf.random.set_seed(42)\n",
    "    np.random.seed(42)\n",
    "\n",
    "    window_size = 30\n",
    "    train_set = window_dataset(normalized_x_train.flatten(), window_size)\n",
    "    valid_set = window_dataset(normalized_x_valid.flatten(), window_size)"
   ],
   "metadata": {
    "collapsed": false,
    "pycharm": {
     "name": "#%%\n"
    }
   }
  },
  {
   "cell_type": "markdown",
   "source": [
    "# Build 2 layer model with 10 neurons each and 1 output layer"
   ],
   "metadata": {
    "collapsed": false,
    "pycharm": {
     "name": "#%% md\n"
    }
   }
  },
  {
   "cell_type": "code",
   "execution_count": null,
   "outputs": [],
   "source": [
    "    model = keras.models.Sequential([\n",
    "        keras.layers.Dense(10, activation=\"relu\", input_shape=[window_size]),\n",
    "        keras.layers.Dense(10, activation=\"relu\"),\n",
    "        keras.layers.Dense(1)\n",
    "    ])"
   ],
   "metadata": {
    "collapsed": false,
    "pycharm": {
     "name": "#%%\n"
    }
   }
  },
  {
   "cell_type": "markdown",
   "source": [
    "# Set optimizer\n",
    "# Set early Stopping\n",
    "# create save points for best model\n",
    "# Fit model"
   ],
   "metadata": {
    "collapsed": false,
    "pycharm": {
     "name": "#%% md\n"
    }
   }
  },
  {
   "cell_type": "code",
   "execution_count": null,
   "outputs": [],
   "source": [
    "    optimizer = keras.optimizers.Nadam(lr=1e-2)\n",
    "    model.compile(loss=keras.losses.Huber(),\n",
    "                  optimizer=optimizer,\n",
    "                  metrics=[\"mae\"])\n",
    "\n",
    "    early_stopping = keras.callbacks.EarlyStopping(patience=20)\n",
    "\n",
    "    model_checkpoint = keras.callbacks.ModelCheckpoint(\n",
    "        \"my_checkpoint\", save_best_only=True)\n",
    "\n",
    "    history = model.fit(train_set, epochs=30,\n",
    "                        validation_data=valid_set,\n",
    "                        callbacks=[early_stopping, model_checkpoint])\n",
    "\n",
    "    model = keras.models.load_model(\"my_checkpoint\")\n",
    "\n",
    "    dense_forecast = model_forecast(model, df_normalized_to_traindata.flatten()[x_test.index.min() - window_size:-1],\n",
    "                                    window_size)[:, 0]\n",
    "\n",
    "    df_normalized_to_traindata.flatten().shape"
   ],
   "metadata": {
    "collapsed": false,
    "pycharm": {
     "name": "#%%\n"
    }
   }
  },
  {
   "cell_type": "markdown",
   "source": [
    "# Undo the scaling\n",
    "# set style of charts"
   ],
   "metadata": {
    "collapsed": false,
    "pycharm": {
     "name": "#%% md\n"
    }
   }
  },
  {
   "cell_type": "code",
   "execution_count": null,
   "outputs": [],
   "source": [
    "    dense_forecast = x_train_scaler.inverse_transform(dense_forecast.reshape(-1, 1)).flatten()\n",
    "    dense_forecast.shape\n",
    "\n",
    "    sns.set(style=\"darkgrid\")\n",
    "    plt.rcParams['figure.figsize'] = [10, 10]\n",
    "\n",
    "    plt.figure(figsize=(10, 6))\n",
    "    plt.title('Fully Dense Forecast')\n",
    "    plt.ylabel('Dollars $')\n",
    "    plt.xlabel('Timestep in Days')\n",
    "    plot_series(x_test.index, x_test)\n",
    "    plot_series(x_test.index, dense_forecast)\n",
    "\n",
    "    plt.show()\n",
    "\n",
    "    mean_err = keras.metrics.mean_absolute_error(x_test, dense_forecast).numpy()\n",
    "    return mean_err"
   ],
   "metadata": {
    "collapsed": false,
    "pycharm": {
     "name": "#%%\n"
    }
   }
  }
 ],
 "metadata": {
  "kernelspec": {
   "display_name": "Python 3",
   "language": "python",
   "name": "python3"
  },
  "language_info": {
   "codemirror_mode": {
    "name": "ipython",
    "version": 2
   },
   "file_extension": ".py",
   "mimetype": "text/x-python",
   "name": "python",
   "nbconvert_exporter": "python",
   "pygments_lexer": "ipython2",
   "version": "2.7.6"
  }
 },
 "nbformat": 4,
 "nbformat_minor": 0
}