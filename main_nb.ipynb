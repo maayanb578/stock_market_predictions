{
 "cells": [
  {
   "cell_type": "markdown",
   "source": [
    "#importing basic packages\n"
   ],
   "metadata": {
    "collapsed": false,
    "pycharm": {
     "name": "#%% md\n"
    }
   }
  },
  {
   "cell_type": "code",
   "execution_count": null,
   "metadata": {
    "collapsed": true
   },
   "outputs": [],
   "source": [
    "import matplotlib.pyplot as plt\n",
    "\n",
    "from all_models import *\n",
    "from scraping_yahoo_data import scrape_quotes"
   ]
  },
  {
   "cell_type": "markdown",
   "metadata": {
    "pycharm": {
     "name": "#%% md\n"
    }
   },
   "source": [
    "# dropping ALL duplicate values\n",
    "# drop unnecessary columns\n",
    "# if more than 10% of the values is null scrape again"
   ]
  },
  {
   "cell_type": "code",
   "execution_count": null,
   "outputs": [],
   "source": [
    "def clean_df(df):\n",
    "    df.drop_duplicates(subset=['Date'], keep=False, inplace=True)\n",
    "\n",
    "    columns_valid = (set(list(df.columns)) - set(['Date', 'Open', 'High', 'Low', 'Close', 'Adj Close', 'Volume']))\n",
    "    if columns_valid != set():\n",
    "        for col in columns_valid:\n",
    "            del df[col]\n",
    "    null_rows = df.isnull().sum().sum()\n",
    "    if null_rows > 1000:\n",
    "        symbol = 'AAPL'\n",
    "        scrape_quotes(symbol)"
   ],
   "metadata": {
    "collapsed": false,
    "pycharm": {
     "name": "#%%\n"
    }
   }
  },
  {
   "cell_type": "code",
   "execution_count": null,
   "outputs": [],
   "source": [
    "if __name__ == \"__main__\":\n",
    "    # Get data\n",
    "    symbol = 'AAPL'\n",
    "    scrape_quotes(symbol)\n",
    "    model_mae_scores = {}\n",
    "    df = pd.read_csv('AAPL.csv')\n",
    "    clean_df(df)\n",
    "    dt_mean_ava_err = decision_tree(df)\n",
    "    model_mae_scores['decision_tree'] = dt_mean_ava_err\n",
    "    df = pd.read_csv('AAPL.csv')\n",
    "    naive_mean_ava_err = naive(df)\n",
    "    model_mae_scores['naive'] = naive_mean_ava_err['naive']\n",
    "    sma20_mean_err = ma20(df)\n",
    "    model_mae_scores['sma20'] = sma20_mean_err\n",
    "    dense_mean_err = dense(df)\n",
    "    model_mae_scores['dense'] = dense_mean_err\n",
    "\n",
    "    mae_series = pd.Series(model_mae_scores)\n",
    "    order = mae_series.sort_values()\n",
    "    sns.barplot(x=order.values, y=order.index, orient='h')\n",
    "\n",
    "    plt.xlabel('Mean Absolute Error')\n",
    "    plt.xticks(rotation='vertical', fontsize=14)\n",
    "    plt.title('Mean Average Error of All Models Tested')\n",
    "    plt.show()\n",
    "    print(\"Done\")"
   ],
   "metadata": {
    "collapsed": false,
    "pycharm": {
     "name": "#%%\n"
    }
   }
  }
 ],
 "metadata": {
  "kernelspec": {
   "display_name": "Python 3",
   "language": "python",
   "name": "python3"
  },
  "language_info": {
   "codemirror_mode": {
    "name": "ipython",
    "version": 3
   },
   "file_extension": ".py",
   "mimetype": "text/x-python",
   "name": "python",
   "nbconvert_exporter": "python",
   "pygments_lexer": "ipython3",
   "version": "3.8.5"
  }
 },
 "nbformat": 4,
 "nbformat_minor": 1
}